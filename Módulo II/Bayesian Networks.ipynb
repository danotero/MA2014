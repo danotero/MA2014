{
 "cells": [
  {
   "cell_type": "markdown",
   "metadata": {},
   "source": [
    "# Bayesian Networks\n",
    "\n",
    "Consider this document as a \"gentle\" tutorial form implementing Bayesian networks in Python. We will just review some of the basic lines of code you will need to do some stuff with these networks. In particular, you will see how we can use a simple Bayesian network to solve the Monty Hall problem. \n",
    "\n",
    "\n",
    "As usual, we will need to load some libraries first. Notice that we will be using the `pybnn`: type `pip install pybbn` in your terminal to install this library. For more information about this library, please visit https://py-bbn.readthedocs.io/index.html. By the way, this code is based in the code that you can find here: https://towardsdatascience.com/bbn-bayesian-belief-networks-how-to-build-them-effectively-in-python-6b7f93435bba"
   ]
  },
  {
   "cell_type": "code",
   "execution_count": null,
   "metadata": {},
   "outputs": [],
   "source": [
    "import networkx as nx # for drawing graphs\n",
    "import matplotlib.pyplot as plt # for drawing graphs\n",
    "from pybbn.graph.dag import Bbn # for creating Bayesian Belief Networks (BBN)\n",
    "from pybbn.graph.edge import Edge, EdgeType\n",
    "from pybbn.graph.jointree import EvidenceBuilder\n",
    "from pybbn.graph.node import BbnNode\n",
    "from pybbn.graph.variable import Variable\n",
    "from pybbn.pptc.inferencecontroller import InferenceController"
   ]
  },
  {
   "cell_type": "markdown",
   "metadata": {},
   "source": [
    "Now we create the nodes of the Bayesian network and their corresponding conditional probability tables. Notice that these tables are defined exactly in the same way that they were defined in class."
   ]
  },
  {
   "cell_type": "code",
   "execution_count": null,
   "metadata": {},
   "outputs": [],
   "source": [
    "concursante_probabilities = [1/3, 1/3, 1/3]\n",
    "premio_probabilities = [1/3, 1/3, 1/3]\n",
    "monty_probabilities = [0, 1/2, 1/2, \n",
    "                       0, 0, 1, \n",
    "                       0, 1, 0, \n",
    "                       0, 0, 1, \n",
    "                       1/2, 0, 1/2, \n",
    "                       1, 0, 0, \n",
    "                       0, 1, 0, \n",
    "                       1, 0, 0, \n",
    "                       1/2, 1/2, 0]\n",
    "\n",
    "premio = BbnNode(Variable(0, 'Premio', ['1', '2', '3']), premio_probabilities)\n",
    "concursante = BbnNode(Variable(1, 'Concursante', ['1', '2', '3']), concursante_probabilities)\n",
    "monty = BbnNode(Variable(2, 'Monty', ['1', '2', '3']), monty_probabilities)"
   ]
  },
  {
   "cell_type": "markdown",
   "metadata": {},
   "source": [
    "Now we can create an object for our graph. We need to specify which objects are going to be the nodes and we also need to specify how these are going to be connected. Further, we need to define another object, `join_tree`, which is the one we will use to compute the probabilities of some events given a certain evidence. "
   ]
  },
  {
   "cell_type": "code",
   "execution_count": null,
   "metadata": {},
   "outputs": [],
   "source": [
    "bbn = Bbn() \\\n",
    "    .add_node(concursante) \\\n",
    "    .add_node(premio) \\\n",
    "    .add_node(monty) \\\n",
    "    .add_edge(Edge(concursante, monty, EdgeType.DIRECTED)) \\\n",
    "    .add_edge(Edge(premio, monty, EdgeType.DIRECTED)) \\\n",
    "\n",
    "# Convert the BBN to a join tree\n",
    "join_tree = InferenceController.apply(bbn)"
   ]
  },
  {
   "cell_type": "markdown",
   "metadata": {},
   "source": [
    "I find the following lines of code useful because by seeing an image of the graph we just created we can visualize if we defined our Bayesian network correclty. This is particularly useful for more complex networks than the one we just implemented. "
   ]
  },
  {
   "cell_type": "code",
   "execution_count": null,
   "metadata": {
    "scrolled": true
   },
   "outputs": [],
   "source": [
    "# Set node positions\n",
    "pos = {0: (-1, 0.5), 1: (1, 0.5), 2: (0, 0)}\n",
    "\n",
    "# Set options for graph looks\n",
    "options = {\"font_size\" : 16, \"node_size\" : 11000, \"node_color\" : \"yellow\", \n",
    "           \"edgecolors\" : \"black\", \"edge_color\" : \"red\", \"linewidths\" : 5, \n",
    "           \"width\": 5}\n",
    "    \n",
    "# Generate graph\n",
    "n, d = bbn.to_nx_graph()\n",
    "nx.draw(n, with_labels=True, labels=d, pos=pos, **options)\n",
    "\n",
    "# Update margins and print the graph\n",
    "ax = plt.gca()\n",
    "ax.margins(0.3)\n",
    "plt.axis(\"off\")\n",
    "plt.show()"
   ]
  },
  {
   "cell_type": "markdown",
   "metadata": {},
   "source": [
    "The following function is not completely necessary, but it is useful for printing out the current probabilities of the nodes of our network. You will see that it will be used kind of often."
   ]
  },
  {
   "cell_type": "code",
   "execution_count": null,
   "metadata": {},
   "outputs": [],
   "source": [
    "# Define a function for printing marginal probabilities\n",
    "def print_probs():\n",
    "    for node in join_tree.get_bbn_nodes():\n",
    "        potential = join_tree.get_bbn_potential(node)\n",
    "        print(\"Node:\", node)\n",
    "        print(\"Values:\")\n",
    "        print(potential)\n",
    "        print('----------------')\n",
    "    \n",
    "# Use the above function to print marginal probabilities\n",
    "print_probs()"
   ]
  },
  {
   "cell_type": "markdown",
   "metadata": {},
   "source": [
    "The function `evidence` is not necessary either, however, as you can see, we need to write some lines of code to \"add\" evidence to our model. This information is used to update the probabilities of the distributions of each node of the Bayesian network. Since this piece of code will be used often it is better to encapsulate these lines within a function."
   ]
  },
  {
   "cell_type": "code",
   "execution_count": null,
   "metadata": {},
   "outputs": [],
   "source": [
    "# To add evidence of events that happened so probability distribution can be recalculated\n",
    "def evidence(ev, nod, val, like):\n",
    "    ev = EvidenceBuilder() \\\n",
    "    .with_node(join_tree.get_bbn_node_by_name(nod)) \\\n",
    "    .with_evidence(val, like) \\\n",
    "    .build()\n",
    "    join_tree.set_observation(ev)"
   ]
  },
  {
   "cell_type": "markdown",
   "metadata": {},
   "source": [
    "Now we can define easily the events we know took place with the function we defined above."
   ]
  },
  {
   "cell_type": "code",
   "execution_count": null,
   "metadata": {
    "scrolled": true
   },
   "outputs": [],
   "source": [
    "# Use above function to add evidence\n",
    "evidence('ev1', 'Concursante', '1', 1)\n",
    "evidence('ev2', 'Monty', '2', 1)\n",
    "\n",
    "# Print marginal probabilities\n",
    "print_probs()"
   ]
  },
  {
   "cell_type": "markdown",
   "metadata": {},
   "source": [
    "If you need to reset the Bayesian network, rerun this line of code or rerun the above cell twice."
   ]
  },
  {
   "cell_type": "code",
   "execution_count": null,
   "metadata": {},
   "outputs": [],
   "source": [
    "join_tree = InferenceController.apply(bbn)"
   ]
  },
  {
   "cell_type": "markdown",
   "metadata": {},
   "source": [
    "## Project of the week\n",
    "\n",
    "Let us talk now about the project of this week. You collected this data, and by \"you collected\" I mean you downloaded it from this webpage: https://www.kaggle.com/vikasukani/diabetes-data-set. Let us take a peek into the data."
   ]
  },
  {
   "cell_type": "code",
   "execution_count": null,
   "metadata": {},
   "outputs": [],
   "source": [
    "import pandas as pd"
   ]
  },
  {
   "cell_type": "code",
   "execution_count": null,
   "metadata": {},
   "outputs": [],
   "source": [
    "diabetes = pd.read_csv('diabetes-dataset.csv')\n",
    "diabetes.head()"
   ]
  },
  {
   "cell_type": "markdown",
   "metadata": {},
   "source": [
    "As you can see there are some numbers that tell you something about someone's health, as well as knowing if a given person has diabetes or not. \n",
    "\n",
    "Let us assume that this data paints an accurate picture of the diabetes situation around the world. Your mission is to implement a Bayesian network to help doctors to diagnose whether a patient has diabetes or not. But rest assured, you are not alone in this, the doctors will help you with their expertise by giving you the Bayesian network of this problem.\n",
    "\n",
    "<img src=\"diabetes.png\" alt=\"Drawing\" style=\"width: 700px;\"/>\n",
    "\n",
    "Keep in mind that the main goal of your network is to compute the probability that a person has diabetes given some evidence: insulin level, age, glucose, etc. Along these lines, as you know, each node has a probability distribution that you will need to determine based on the data that you collected. Also, you can notice that the majority of variables are continuous, except for `Pregnancies` and `Outcome`, however, we are going to discretize these variables using quartiles in the following way: "
   ]
  },
  {
   "cell_type": "code",
   "execution_count": null,
   "metadata": {
    "scrolled": true
   },
   "outputs": [],
   "source": [
    "diabetes['BMI'][diabetes['BMI'] > 0].describe()"
   ]
  },
  {
   "cell_type": "markdown",
   "metadata": {},
   "source": [
    "First, you can notice that we are only interested in values that are greater than zero, we do this because we do not want our first quartile to be equal to nothing. Once we do this, then we say that the values that the random variable `BMI` is going to take are `BMI`$<27.5$, $27.5\\leq$ `BMI`$<32.4$, $32.4\\leq$ `BMI`$<36.8$ and $36.8\\leq$`BMI`.\n",
    "\n",
    "Speaking of `BMI`, you may have noticed that the variable `Overweight` is not part of the data, well, it turns out that we can easily obtain this information by classifying a person whose `BMI` is equal or greater than 25 as someone who is overweight, so tag her/him as a **one**, and if that is not the case, `BMI` below 25, then we assign a **zero** to that person.\n",
    "\n",
    "At this point you might be wondering, what about probabilities? You will need the data that we already have and a function that you will code that receives the data and a dictionary in which each key is a node and the value of each key is a list with the parents of said node, and returns the tables of each variable, which are also stored in a dictionary; keep in mind that, in this case, the tables are lists. For instance, in the case of the Monty Hall problem, we would have this:"
   ]
  },
  {
   "cell_type": "code",
   "execution_count": null,
   "metadata": {},
   "outputs": [],
   "source": [
    "monty_problem_dictionary = {'Concursante' : [], \n",
    "                            'Premio' : [], \n",
    "                            'Monty' : ['Concursante', 'Premio']}"
   ]
  },
  {
   "cell_type": "markdown",
   "metadata": {},
   "source": [
    "So this is what your function receives. What about the output? It should be a dictionary as well:"
   ]
  },
  {
   "cell_type": "code",
   "execution_count": null,
   "metadata": {},
   "outputs": [],
   "source": [
    "monty_problem_tables = {'Concursante' : [1/3, 1/3, 1/3], \n",
    "                        'Premio' : [1/3, 1/3, 1/3], \n",
    "                        'Monty' : [0, 1/2, 1/2, \n",
    "                                   0, 0, 1, \n",
    "                                   0, 1, 0, \n",
    "                                   0, 0, 1, \n",
    "                                   1/2, 0, 1/2, \n",
    "                                   1, 0, 0, \n",
    "                                   0, 1, 0, \n",
    "                                   1, 0, 0, \n",
    "                                   1/2, 1/2, 0]}"
   ]
  },
  {
   "cell_type": "markdown",
   "metadata": {},
   "source": [
    "By the way, the Bayesian network came from this paper: *Mohammadi, Mohtaram, M. Hosseini and H. Tabatabaee. “Using Bayesian Network for the Prediction and Diagnosis of Diabetes.” (2015)*.\n",
    "\n",
    "So you are all set! Enjoy!"
   ]
  }
 ],
 "metadata": {
  "hide_input": false,
  "kernelspec": {
   "display_name": "Python 3 (ipykernel)",
   "language": "python",
   "name": "python3"
  },
  "language_info": {
   "codemirror_mode": {
    "name": "ipython",
    "version": 3
   },
   "file_extension": ".py",
   "mimetype": "text/x-python",
   "name": "python",
   "nbconvert_exporter": "python",
   "pygments_lexer": "ipython3",
   "version": "3.11.4"
  }
 },
 "nbformat": 4,
 "nbformat_minor": 2
}
